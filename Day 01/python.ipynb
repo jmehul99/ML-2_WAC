{
  "nbformat": 4,
  "nbformat_minor": 0,
  "metadata": {
    "colab": {
      "name": "python.ipynb",
      "provenance": []
    },
    "kernelspec": {
      "name": "python3",
      "display_name": "Python 3"
    },
    "language_info": {
      "name": "python"
    }
  },
  "cells": [
    {
      "cell_type": "code",
      "metadata": {
        "id": "ffyAJZvVpT50"
      },
      "source": [
        "# data types \n",
        "# strings 'hello '\n",
        "# int   1 2 3 -1  -2\n",
        "# floats 4.5 1.7 -1.2"
      ],
      "execution_count": null,
      "outputs": []
    },
    {
      "cell_type": "code",
      "metadata": {
        "colab": {
          "base_uri": "https://localhost:8080/"
        },
        "id": "i4g4ot1Tpw6R",
        "outputId": "db52b864-59e6-48e9-968d-ac9481526e6c"
      },
      "source": [
        "# strings\n",
        "string_1 = 'Hello '\n",
        "string_2 = 'Mehul'\n",
        "\n",
        "print(string_1)"
      ],
      "execution_count": 1,
      "outputs": [
        {
          "output_type": "stream",
          "text": [
            "Hello \n"
          ],
          "name": "stdout"
        }
      ]
    },
    {
      "cell_type": "code",
      "metadata": {
        "colab": {
          "base_uri": "https://localhost:8080/"
        },
        "id": "G_O34lrupxA3",
        "outputId": "ced874b4-af0b-4643-8c38-4b7237eba9d1"
      },
      "source": [
        "# string concatenation\n",
        "string_3 = string_1 + string_2\n",
        "print(string_3)\n"
      ],
      "execution_count": 2,
      "outputs": [
        {
          "output_type": "stream",
          "text": [
            "Hello Mehul\n"
          ],
          "name": "stdout"
        }
      ]
    },
    {
      "cell_type": "code",
      "metadata": {
        "colab": {
          "base_uri": "https://localhost:8080/"
        },
        "id": "x4YVO8XypxFZ",
        "outputId": "f22ba7ef-1aa7-4b2f-db28-22bc314bd6bc"
      },
      "source": [
        "# string replication\n",
        "string_4 = 'Hello'*5\n",
        "print(string_4)"
      ],
      "execution_count": 3,
      "outputs": [
        {
          "output_type": "stream",
          "text": [
            "HelloHelloHelloHelloHello\n"
          ],
          "name": "stdout"
        }
      ]
    },
    {
      "cell_type": "code",
      "metadata": {
        "colab": {
          "base_uri": "https://localhost:8080/"
        },
        "id": "2WAZsSd1pxJ2",
        "outputId": "926e0a2f-81c5-418b-f0df-048a87751f5b"
      },
      "source": [
        "len(string_4)"
      ],
      "execution_count": 4,
      "outputs": [
        {
          "output_type": "execute_result",
          "data": {
            "text/plain": [
              "25"
            ]
          },
          "metadata": {
            "tags": []
          },
          "execution_count": 4
        }
      ]
    },
    {
      "cell_type": "code",
      "metadata": {
        "colab": {
          "base_uri": "https://localhost:8080/"
        },
        "id": "hMuxA16-pxOk",
        "outputId": "ac2b3f4a-0bc3-499e-b501-a36b68b0f60d"
      },
      "source": [
        "# string slicing\n",
        "string_5 =string_4[0:5: 2]\n",
        "print(string_5)"
      ],
      "execution_count": 7,
      "outputs": [
        {
          "output_type": "stream",
          "text": [
            "Hlo\n"
          ],
          "name": "stdout"
        }
      ]
    },
    {
      "cell_type": "code",
      "metadata": {
        "colab": {
          "base_uri": "https://localhost:8080/",
          "height": 35
        },
        "id": "8tC5CvWppxUW",
        "outputId": "08b5a768-0d10-42d5-86f2-5bf8febe4755"
      },
      "source": [
        "string_5[-2]"
      ],
      "execution_count": 13,
      "outputs": [
        {
          "output_type": "execute_result",
          "data": {
            "application/vnd.google.colaboratory.intrinsic+json": {
              "type": "string"
            },
            "text/plain": [
              "'l'"
            ]
          },
          "metadata": {
            "tags": []
          },
          "execution_count": 13
        }
      ]
    },
    {
      "cell_type": "code",
      "metadata": {
        "colab": {
          "base_uri": "https://localhost:8080/"
        },
        "id": "uRKC4BpzpxZY",
        "outputId": "55098830-8ac2-469e-b884-ec990c48e4e5"
      },
      "source": [
        "# int\n",
        "a = 2\n",
        "b = '2'\n",
        "\n",
        "print(type(a))\n",
        "print(type(b))"
      ],
      "execution_count": 14,
      "outputs": [
        {
          "output_type": "stream",
          "text": [
            "<class 'int'>\n",
            "<class 'str'>\n"
          ],
          "name": "stdout"
        }
      ]
    },
    {
      "cell_type": "code",
      "metadata": {
        "id": "YJo9NckXpxdZ"
      },
      "source": [
        "x = 4\n",
        "y = 3\n"
      ],
      "execution_count": 15,
      "outputs": []
    },
    {
      "cell_type": "code",
      "metadata": {
        "colab": {
          "base_uri": "https://localhost:8080/"
        },
        "id": "ybRwFUAqpxhU",
        "outputId": "48c2c980-6a15-4684-80cc-ff7caf609b84"
      },
      "source": [
        "# math operators\n",
        "print(x**y) ---> exponent operator"
      ],
      "execution_count": 16,
      "outputs": [
        {
          "output_type": "stream",
          "text": [
            "64\n"
          ],
          "name": "stdout"
        }
      ]
    },
    {
      "cell_type": "code",
      "metadata": {
        "colab": {
          "base_uri": "https://localhost:8080/"
        },
        "id": "EO0AkdPot7fR",
        "outputId": "e1e34fd5-0a05-437b-ef0e-d3b5459b6226"
      },
      "source": [
        "# modulus operator\n",
        "print(10%4)"
      ],
      "execution_count": 18,
      "outputs": [
        {
          "output_type": "stream",
          "text": [
            "2\n"
          ],
          "name": "stdout"
        }
      ]
    },
    {
      "cell_type": "code",
      "metadata": {
        "colab": {
          "base_uri": "https://localhost:8080/"
        },
        "id": "cDdZBO7Pt7mr",
        "outputId": "80540829-abf2-46d0-860c-fe7f05c591e5"
      },
      "source": [
        "print(x/y) ---> division\n",
        "\n",
        "print(x//y) ----> integer division"
      ],
      "execution_count": 19,
      "outputs": [
        {
          "output_type": "stream",
          "text": [
            "1.3333333333333333\n",
            "1\n"
          ],
          "name": "stdout"
        }
      ]
    },
    {
      "cell_type": "code",
      "metadata": {
        "colab": {
          "base_uri": "https://localhost:8080/"
        },
        "id": "Kx2xOQMZt7r3",
        "outputId": "4750ab35-e3cd-4054-8bf9-866367c56ef1"
      },
      "source": [
        "print(x*y)"
      ],
      "execution_count": 20,
      "outputs": [
        {
          "output_type": "stream",
          "text": [
            "12\n"
          ],
          "name": "stdout"
        }
      ]
    },
    {
      "cell_type": "code",
      "metadata": {
        "colab": {
          "base_uri": "https://localhost:8080/"
        },
        "id": "rbwGOqh5t7wJ",
        "outputId": "a12d7d1d-cb25-4cf4-bae1-0d2a0659b908"
      },
      "source": [
        "print(x-y)\n",
        "print(x+y)"
      ],
      "execution_count": 21,
      "outputs": [
        {
          "output_type": "stream",
          "text": [
            "1\n",
            "7\n"
          ],
          "name": "stdout"
        }
      ]
    },
    {
      "cell_type": "code",
      "metadata": {
        "colab": {
          "base_uri": "https://localhost:8080/"
        },
        "id": "Q7KGCNT9t71E",
        "outputId": "95b2ca86-fc91-4100-bf3c-eee28d9aa00c"
      },
      "source": [
        "# input function\n",
        "name = input('Please enter your name: ')\n",
        "print('Your name is: ', name)"
      ],
      "execution_count": 22,
      "outputs": [
        {
          "output_type": "stream",
          "text": [
            "Please enter your name: Mehul\n",
            "Your name is:  Mehul\n"
          ],
          "name": "stdout"
        }
      ]
    },
    {
      "cell_type": "code",
      "metadata": {
        "colab": {
          "base_uri": "https://localhost:8080/"
        },
        "id": "1wpdGKQTt75s",
        "outputId": "c5b77b6d-6e15-4278-989c-5275e17b43c9"
      },
      "source": [
        "x = int(input('Please enter your age: '))\n",
        "print('Your age is: ', x )"
      ],
      "execution_count": 28,
      "outputs": [
        {
          "output_type": "stream",
          "text": [
            "Please enter your age: 10\n",
            "Your age is:  10\n"
          ],
          "name": "stdout"
        }
      ]
    },
    {
      "cell_type": "code",
      "metadata": {
        "colab": {
          "base_uri": "https://localhost:8080/"
        },
        "id": "Lqsf1HSBt7_R",
        "outputId": "d099fb5d-2cc5-4108-929d-eecf3565ae93"
      },
      "source": [
        "type(x)"
      ],
      "execution_count": 29,
      "outputs": [
        {
          "output_type": "execute_result",
          "data": {
            "text/plain": [
              "int"
            ]
          },
          "metadata": {
            "tags": []
          },
          "execution_count": 29
        }
      ]
    },
    {
      "cell_type": "code",
      "metadata": {
        "colab": {
          "base_uri": "https://localhost:8080/"
        },
        "id": "rqloKw7NwD6c",
        "outputId": "44cd8b80-b52e-48da-c083-a47e67928822"
      },
      "source": [
        "#type casting\n",
        "\n",
        "x = 25\n",
        "print(type(x))\n",
        "\n",
        "x = str(x)\n",
        "print(type(x))"
      ],
      "execution_count": 30,
      "outputs": [
        {
          "output_type": "stream",
          "text": [
            "<class 'int'>\n",
            "<class 'str'>\n"
          ],
          "name": "stdout"
        }
      ]
    },
    {
      "cell_type": "code",
      "metadata": {
        "colab": {
          "base_uri": "https://localhost:8080/"
        },
        "id": "IEpdfMZawnGw",
        "outputId": "77da2716-2caa-4a42-a132-8bb050a03706"
      },
      "source": [
        "# booleans\n",
        "\n",
        "a = 2<3\n",
        "print(a)\n",
        "type(a)"
      ],
      "execution_count": 33,
      "outputs": [
        {
          "output_type": "stream",
          "text": [
            "True\n"
          ],
          "name": "stdout"
        },
        {
          "output_type": "execute_result",
          "data": {
            "text/plain": [
              "bool"
            ]
          },
          "metadata": {
            "tags": []
          },
          "execution_count": 33
        }
      ]
    },
    {
      "cell_type": "code",
      "metadata": {
        "colab": {
          "base_uri": "https://localhost:8080/"
        },
        "id": "LDdKA79SwnRZ",
        "outputId": "37e4b0d8-8ab1-48a0-df40-167661671fac"
      },
      "source": [
        "# functions\n",
        "\n",
        "def myFunction():\n",
        "  print('hello')\n",
        "  print('user')\n",
        "\n",
        "\n",
        "\n",
        "\n",
        "\n",
        "\n",
        "  \n",
        "\n",
        "myFunction()"
      ],
      "execution_count": 34,
      "outputs": [
        {
          "output_type": "stream",
          "text": [
            "hello\n",
            "user\n"
          ],
          "name": "stdout"
        }
      ]
    },
    {
      "cell_type": "code",
      "metadata": {
        "colab": {
          "base_uri": "https://localhost:8080/"
        },
        "id": "Oi1GdaKewnYj",
        "outputId": "3a9077a5-6a6d-4fff-b513-3a8e396b3c80"
      },
      "source": [
        "myFunction()"
      ],
      "execution_count": 35,
      "outputs": [
        {
          "output_type": "stream",
          "text": [
            "hello\n",
            "user\n"
          ],
          "name": "stdout"
        }
      ]
    },
    {
      "cell_type": "code",
      "metadata": {
        "colab": {
          "base_uri": "https://localhost:8080/"
        },
        "id": "gRLMSKG6wnfE",
        "outputId": "cc875234-7cb4-48b2-d320-5707a1eb5231"
      },
      "source": [
        "def add(x, y, z):\n",
        "  result = x+y+z\n",
        "  return result\n",
        "\n",
        "c = add(1,2,3)\n",
        "print(c)"
      ],
      "execution_count": 36,
      "outputs": [
        {
          "output_type": "stream",
          "text": [
            "6\n"
          ],
          "name": "stdout"
        }
      ]
    },
    {
      "cell_type": "code",
      "metadata": {
        "colab": {
          "base_uri": "https://localhost:8080/"
        },
        "id": "HRph37DawnjN",
        "outputId": "3fb104cb-3bd3-4394-b6b6-a259f4dc2a88"
      },
      "source": [
        "# list\n",
        "x = 'apple'\n",
        "y = 'mango'\n",
        "z = ' orange'\n",
        "\n",
        "fruits = ['apple', 'mango', 'orange']\n",
        "print(fruits)"
      ],
      "execution_count": 37,
      "outputs": [
        {
          "output_type": "stream",
          "text": [
            "['apple', 'mango', 'orange']\n"
          ],
          "name": "stdout"
        }
      ]
    },
    {
      "cell_type": "code",
      "metadata": {
        "colab": {
          "base_uri": "https://localhost:8080/"
        },
        "id": "3wof1k5Dwnrr",
        "outputId": "0dc169fe-8bcf-48dd-9385-164af810025d"
      },
      "source": [
        "fruits[0]= 'grapes'\n",
        "print(fruits)"
      ],
      "execution_count": 41,
      "outputs": [
        {
          "output_type": "stream",
          "text": [
            "['grapes', 'mango', 'orange']\n"
          ],
          "name": "stdout"
        }
      ]
    },
    {
      "cell_type": "code",
      "metadata": {
        "colab": {
          "base_uri": "https://localhost:8080/",
          "height": 180
        },
        "id": "LxnS4nvfwENF",
        "outputId": "12b1360e-3eca-49fd-c243-6f6c04f2aaf4"
      },
      "source": [
        "fruits.append(1, 'apple')\n",
        "fruits"
      ],
      "execution_count": 47,
      "outputs": [
        {
          "output_type": "error",
          "ename": "TypeError",
          "evalue": "ignored",
          "traceback": [
            "\u001b[0;31m---------------------------------------------------------------------------\u001b[0m",
            "\u001b[0;31mTypeError\u001b[0m                                 Traceback (most recent call last)",
            "\u001b[0;32m<ipython-input-47-4d86f62eb253>\u001b[0m in \u001b[0;36m<module>\u001b[0;34m()\u001b[0m\n\u001b[0;32m----> 1\u001b[0;31m \u001b[0mfruits\u001b[0m\u001b[0;34m.\u001b[0m\u001b[0mappend\u001b[0m\u001b[0;34m(\u001b[0m\u001b[0;36m1\u001b[0m\u001b[0;34m,\u001b[0m \u001b[0;34m'apple'\u001b[0m\u001b[0;34m)\u001b[0m\u001b[0;34m\u001b[0m\u001b[0;34m\u001b[0m\u001b[0m\n\u001b[0m\u001b[1;32m      2\u001b[0m \u001b[0mfruits\u001b[0m\u001b[0;34m\u001b[0m\u001b[0;34m\u001b[0m\u001b[0m\n",
            "\u001b[0;31mTypeError\u001b[0m: append() takes exactly one argument (2 given)"
          ]
        }
      ]
    },
    {
      "cell_type": "code",
      "metadata": {
        "colab": {
          "base_uri": "https://localhost:8080/"
        },
        "id": "q_7cszjs0SfW",
        "outputId": "a91f76a6-65ef-483c-f918-c579dbc25374"
      },
      "source": [
        "fruits.insert(2, 'kiwi')\n",
        "fruits"
      ],
      "execution_count": 43,
      "outputs": [
        {
          "output_type": "execute_result",
          "data": {
            "text/plain": [
              "['grapes', 'mango', 'kiwi', 'orange', 'apple']"
            ]
          },
          "metadata": {
            "tags": []
          },
          "execution_count": 43
        }
      ]
    },
    {
      "cell_type": "code",
      "metadata": {
        "colab": {
          "base_uri": "https://localhost:8080/"
        },
        "id": "9_gx7oYV0lMD",
        "outputId": "61dee40b-82a9-4c89-b97f-068aa7c1748b"
      },
      "source": [
        "fruits.pop(1)\n",
        "print(fruits)"
      ],
      "execution_count": 45,
      "outputs": [
        {
          "output_type": "stream",
          "text": [
            "['grapes', 'kiwi', 'orange']\n"
          ],
          "name": "stdout"
        }
      ]
    },
    {
      "cell_type": "code",
      "metadata": {
        "colab": {
          "base_uri": "https://localhost:8080/"
        },
        "id": "wVr9tSGZ0lSW",
        "outputId": "58f7197d-efe5-4f75-b491-ef6e1b4788bf"
      },
      "source": [
        "del fruits[0]\n",
        "fruits"
      ],
      "execution_count": 46,
      "outputs": [
        {
          "output_type": "execute_result",
          "data": {
            "text/plain": [
              "['kiwi', 'orange']"
            ]
          },
          "metadata": {
            "tags": []
          },
          "execution_count": 46
        }
      ]
    },
    {
      "cell_type": "code",
      "metadata": {
        "id": "UyokNK0J0lZm"
      },
      "source": [
        "nested_list = 0[[1,2,3], \n",
        "              1 [4,5,6]]\n",
        "                 0 1 2"
      ],
      "execution_count": 48,
      "outputs": []
    },
    {
      "cell_type": "code",
      "metadata": {
        "colab": {
          "base_uri": "https://localhost:8080/"
        },
        "id": "llAyP3NI0lhv",
        "outputId": "0e2bfa84-3742-4e5f-d078-6b0e5f7483d9"
      },
      "source": [
        "nested_list[1][1]"
      ],
      "execution_count": 49,
      "outputs": [
        {
          "output_type": "execute_result",
          "data": {
            "text/plain": [
              "5"
            ]
          },
          "metadata": {
            "tags": []
          },
          "execution_count": 49
        }
      ]
    },
    {
      "cell_type": "code",
      "metadata": {
        "colab": {
          "base_uri": "https://localhost:8080/"
        },
        "id": "CIeExD7S0lnh",
        "outputId": "a3574aa9-0be6-47d7-b0ce-255cb280ef87"
      },
      "source": [
        "l = [5,2,7,1,10]\n",
        "l.sort()\n",
        "l"
      ],
      "execution_count": 50,
      "outputs": [
        {
          "output_type": "execute_result",
          "data": {
            "text/plain": [
              "[1, 2, 5, 7, 10]"
            ]
          },
          "metadata": {
            "tags": []
          },
          "execution_count": 50
        }
      ]
    },
    {
      "cell_type": "code",
      "metadata": {
        "colab": {
          "base_uri": "https://localhost:8080/"
        },
        "id": "HRnbSif40lrv",
        "outputId": "4f4c4286-a5d3-4956-8f82-1cee137450af"
      },
      "source": [
        "# list slicing\n",
        "\n",
        "l[0:3:2]"
      ],
      "execution_count": 53,
      "outputs": [
        {
          "output_type": "execute_result",
          "data": {
            "text/plain": [
              "[1, 5]"
            ]
          },
          "metadata": {
            "tags": []
          },
          "execution_count": 53
        }
      ]
    },
    {
      "cell_type": "code",
      "metadata": {
        "colab": {
          "base_uri": "https://localhost:8080/"
        },
        "id": "ut981ASY0lzZ",
        "outputId": "28f64b10-0b9e-4be6-f719-5edbbb732a56"
      },
      "source": [
        "# list comprehension\n",
        " \n",
        "l = [x**2 for x in range(1,11) if x%2==0]\n",
        "l"
      ],
      "execution_count": 57,
      "outputs": [
        {
          "output_type": "execute_result",
          "data": {
            "text/plain": [
              "[4, 16, 36, 64, 100]"
            ]
          },
          "metadata": {
            "tags": []
          },
          "execution_count": 57
        }
      ]
    },
    {
      "cell_type": "code",
      "metadata": {
        "colab": {
          "base_uri": "https://localhost:8080/"
        },
        "id": "V3WILVBT0l4T",
        "outputId": "88ec7427-6877-4e08-9ded-16fe5a7e7ef4"
      },
      "source": [
        "# loop through a list\n",
        "sum1 =0 \n",
        "for ele in l:\n",
        "  sum1 = sum1+ele\n",
        "\n",
        "print(sum1)"
      ],
      "execution_count": 63,
      "outputs": [
        {
          "output_type": "stream",
          "text": [
            "220\n"
          ],
          "name": "stdout"
        }
      ]
    },
    {
      "cell_type": "code",
      "metadata": {
        "colab": {
          "base_uri": "https://localhost:8080/"
        },
        "id": "c9TyUKs54PQL",
        "outputId": "9be4ceb8-e914-43ce-bd64-ef3d1dd3e924"
      },
      "source": [
        "#tuple\n",
        "my_tuple = (1,2,3,4)\n",
        "print(my_tuple)"
      ],
      "execution_count": 64,
      "outputs": [
        {
          "output_type": "stream",
          "text": [
            "(1, 2, 3, 4)\n"
          ],
          "name": "stdout"
        }
      ]
    },
    {
      "cell_type": "code",
      "metadata": {
        "colab": {
          "base_uri": "https://localhost:8080/",
          "height": 163
        },
        "id": "3E68_dBA4i-2",
        "outputId": "27d14e43-d2b0-4890-fa28-4409f7ee39d4"
      },
      "source": [
        "my_tuple[0]=0"
      ],
      "execution_count": 65,
      "outputs": [
        {
          "output_type": "error",
          "ename": "TypeError",
          "evalue": "ignored",
          "traceback": [
            "\u001b[0;31m---------------------------------------------------------------------------\u001b[0m",
            "\u001b[0;31mTypeError\u001b[0m                                 Traceback (most recent call last)",
            "\u001b[0;32m<ipython-input-65-a0c25be542d6>\u001b[0m in \u001b[0;36m<module>\u001b[0;34m()\u001b[0m\n\u001b[0;32m----> 1\u001b[0;31m \u001b[0mmy_tuple\u001b[0m\u001b[0;34m[\u001b[0m\u001b[0;36m0\u001b[0m\u001b[0;34m]\u001b[0m\u001b[0;34m=\u001b[0m\u001b[0;36m0\u001b[0m\u001b[0;34m\u001b[0m\u001b[0;34m\u001b[0m\u001b[0m\n\u001b[0m",
            "\u001b[0;31mTypeError\u001b[0m: 'tuple' object does not support item assignment"
          ]
        }
      ]
    },
    {
      "cell_type": "code",
      "metadata": {
        "colab": {
          "base_uri": "https://localhost:8080/"
        },
        "id": "jSI1N0ws4jRc",
        "outputId": "85a9f353-d035-4864-b2a8-dfb3232516e2"
      },
      "source": [
        "my_tuple = list(my_tuple)\n",
        "my_tuple[0]=0\n",
        "print(my_tuple)"
      ],
      "execution_count": 66,
      "outputs": [
        {
          "output_type": "stream",
          "text": [
            "[0, 2, 3, 4]\n"
          ],
          "name": "stdout"
        }
      ]
    },
    {
      "cell_type": "code",
      "metadata": {
        "colab": {
          "base_uri": "https://localhost:8080/"
        },
        "id": "yDJc3rq54jWx",
        "outputId": "f9aa8211-a262-43e8-d67a-4a7ff0a0b022"
      },
      "source": [
        "# set\n",
        "l= [1,11,1,2,3,2]\n",
        "print(l)\n",
        "\n",
        "s = {1,11,1,2,3,2}\n",
        "s"
      ],
      "execution_count": 68,
      "outputs": [
        {
          "output_type": "stream",
          "text": [
            "[1, 11, 1, 2, 3, 2]\n"
          ],
          "name": "stdout"
        },
        {
          "output_type": "execute_result",
          "data": {
            "text/plain": [
              "{1, 2, 3, 11}"
            ]
          },
          "metadata": {
            "tags": []
          },
          "execution_count": 68
        }
      ]
    },
    {
      "cell_type": "code",
      "metadata": {
        "colab": {
          "base_uri": "https://localhost:8080/",
          "height": 163
        },
        "id": "uc95Xp_e5OCl",
        "outputId": "6feb27d3-25dd-43b3-fb49-ed740986947d"
      },
      "source": [
        "s[0]"
      ],
      "execution_count": 69,
      "outputs": [
        {
          "output_type": "error",
          "ename": "TypeError",
          "evalue": "ignored",
          "traceback": [
            "\u001b[0;31m---------------------------------------------------------------------------\u001b[0m",
            "\u001b[0;31mTypeError\u001b[0m                                 Traceback (most recent call last)",
            "\u001b[0;32m<ipython-input-69-c9c96910e542>\u001b[0m in \u001b[0;36m<module>\u001b[0;34m()\u001b[0m\n\u001b[0;32m----> 1\u001b[0;31m \u001b[0ms\u001b[0m\u001b[0;34m[\u001b[0m\u001b[0;36m0\u001b[0m\u001b[0;34m]\u001b[0m\u001b[0;34m\u001b[0m\u001b[0;34m\u001b[0m\u001b[0m\n\u001b[0m",
            "\u001b[0;31mTypeError\u001b[0m: 'set' object is not subscriptable"
          ]
        }
      ]
    },
    {
      "cell_type": "code",
      "metadata": {
        "id": "6vnnWBrY5WnF"
      },
      "source": [
        "# dictionary\n",
        "car = {\n",
        "    'brand': 'Honda',\n",
        "    'model': 'Civic',\n",
        "    'year': 2000\n",
        "}"
      ],
      "execution_count": 70,
      "outputs": []
    },
    {
      "cell_type": "code",
      "metadata": {
        "colab": {
          "base_uri": "https://localhost:8080/",
          "height": 35
        },
        "id": "cY40nFE75Y8T",
        "outputId": "f54ea5d5-406e-4aba-8f23-c5657bfb148f"
      },
      "source": [
        "car['model']"
      ],
      "execution_count": 72,
      "outputs": [
        {
          "output_type": "execute_result",
          "data": {
            "application/vnd.google.colaboratory.intrinsic+json": {
              "type": "string"
            },
            "text/plain": [
              "'Civic'"
            ]
          },
          "metadata": {
            "tags": []
          },
          "execution_count": 72
        }
      ]
    },
    {
      "cell_type": "code",
      "metadata": {
        "colab": {
          "base_uri": "https://localhost:8080/"
        },
        "id": "q3QP6PIu5ZKh",
        "outputId": "aaf9b1bf-d81e-4e10-c7f2-8b85c77f2b98"
      },
      "source": [
        "car['year']=2010\n",
        "car"
      ],
      "execution_count": 73,
      "outputs": [
        {
          "output_type": "execute_result",
          "data": {
            "text/plain": [
              "{'brand': 'Honda', 'model': 'Civic', 'year': 2010}"
            ]
          },
          "metadata": {
            "tags": []
          },
          "execution_count": 73
        }
      ]
    },
    {
      "cell_type": "code",
      "metadata": {
        "colab": {
          "base_uri": "https://localhost:8080/"
        },
        "id": "ST_mR22f5ZXK",
        "outputId": "344f79fc-ffcc-4bda-e819-f3bde0ea843a"
      },
      "source": [
        "car.keys()"
      ],
      "execution_count": 74,
      "outputs": [
        {
          "output_type": "execute_result",
          "data": {
            "text/plain": [
              "dict_keys(['brand', 'model', 'year'])"
            ]
          },
          "metadata": {
            "tags": []
          },
          "execution_count": 74
        }
      ]
    },
    {
      "cell_type": "code",
      "metadata": {
        "colab": {
          "base_uri": "https://localhost:8080/"
        },
        "id": "x9OKG7bX5Zjw",
        "outputId": "520a29cd-6a04-49ca-9ef2-86105c5eb31e"
      },
      "source": [
        "car.values()"
      ],
      "execution_count": 75,
      "outputs": [
        {
          "output_type": "execute_result",
          "data": {
            "text/plain": [
              "dict_values(['Honda', 'Civic', 2010])"
            ]
          },
          "metadata": {
            "tags": []
          },
          "execution_count": 75
        }
      ]
    },
    {
      "cell_type": "code",
      "metadata": {
        "colab": {
          "base_uri": "https://localhost:8080/"
        },
        "id": "eFvFPgnv5ZuF",
        "outputId": "65659c17-4dc7-4733-abc4-9efcd5c1bd08"
      },
      "source": [
        "car.items()"
      ],
      "execution_count": 76,
      "outputs": [
        {
          "output_type": "execute_result",
          "data": {
            "text/plain": [
              "dict_items([('brand', 'Honda'), ('model', 'Civic'), ('year', 2010)])"
            ]
          },
          "metadata": {
            "tags": []
          },
          "execution_count": 76
        }
      ]
    },
    {
      "cell_type": "code",
      "metadata": {
        "colab": {
          "base_uri": "https://localhost:8080/"
        },
        "id": "lreugn5H5Z5D",
        "outputId": "2bfdb914-be32-462f-eb75-9702a26fac8c"
      },
      "source": [
        "for key, value in car.items():\n",
        "  print(key, ': ', value)"
      ],
      "execution_count": 77,
      "outputs": [
        {
          "output_type": "stream",
          "text": [
            "brand :  Honda\n",
            "model :  Civic\n",
            "year :  2010\n"
          ],
          "name": "stdout"
        }
      ]
    },
    {
      "cell_type": "code",
      "metadata": {
        "colab": {
          "base_uri": "https://localhost:8080/"
        },
        "id": "Wu9cKQBh6nWk",
        "outputId": "21d029bc-c1ca-40da-86e5-fb0be0da9ee6"
      },
      "source": [
        "for xyz in car.values():\n",
        "  print(xyz)"
      ],
      "execution_count": 82,
      "outputs": [
        {
          "output_type": "stream",
          "text": [
            "Honda\n",
            "Civic\n",
            "2010\n"
          ],
          "name": "stdout"
        }
      ]
    },
    {
      "cell_type": "code",
      "metadata": {
        "colab": {
          "base_uri": "https://localhost:8080/"
        },
        "id": "q7GDNKDR6nuV",
        "outputId": "039eebea-fcd7-4e67-958d-36842291802d"
      },
      "source": [
        "#conditional statements\n",
        "a = 1\n",
        "b = 2\n",
        "\n",
        "if a>b:\n",
        "  print('a is greater')\n",
        "elif a==b:\n",
        "  print('both are equal')\n",
        "else:\n",
        "  print('b is greater')"
      ],
      "execution_count": 83,
      "outputs": [
        {
          "output_type": "stream",
          "text": [
            "b is greater\n"
          ],
          "name": "stdout"
        }
      ]
    },
    {
      "cell_type": "code",
      "metadata": {
        "colab": {
          "base_uri": "https://localhost:8080/"
        },
        "id": "h3oH1rk76n4T",
        "outputId": "c39180dd-fd4a-4131-e36f-b8fcbd88f4d9"
      },
      "source": [
        "x = 10\n",
        "y= 20\n",
        "z = 30\n",
        "\n",
        "if x==y and x==z and y==z:\n",
        "  print('all are equal')\n",
        "elif x>y and x>z:\n",
        "  print('x is greatest')\n",
        "elif y>x and y>z:\n",
        "  print('y is greatest')\n",
        "else:\n",
        "  print('z is greatest')"
      ],
      "execution_count": 84,
      "outputs": [
        {
          "output_type": "stream",
          "text": [
            "z is greatest\n"
          ],
          "name": "stdout"
        }
      ]
    },
    {
      "cell_type": "code",
      "metadata": {
        "colab": {
          "base_uri": "https://localhost:8080/"
        },
        "id": "ow9f2CLv6oDb",
        "outputId": "e2786c2e-ba7c-49f7-a3f3-b61ac2993c3d"
      },
      "source": [
        "# loops\n",
        "\n",
        "for i in range(1, 11):\n",
        "  if i%2==0:\n",
        "    print(i)"
      ],
      "execution_count": 87,
      "outputs": [
        {
          "output_type": "stream",
          "text": [
            "2\n",
            "4\n",
            "6\n",
            "8\n",
            "10\n"
          ],
          "name": "stdout"
        }
      ]
    },
    {
      "cell_type": "code",
      "metadata": {
        "colab": {
          "base_uri": "https://localhost:8080/"
        },
        "id": "P-KLwp8o6oM4",
        "outputId": "d39003db-7dd6-429d-860f-b27261e4daed"
      },
      "source": [
        "i =0\n",
        "while(i<10):\n",
        "  print(i)\n",
        "  i+=1\n",
        "  # i = i +1\n",
        "  # i-=1\n",
        "  # i= i-1\n",
        "  # i--\n",
        "  # i++\n",
        "\n"
      ],
      "execution_count": 88,
      "outputs": [
        {
          "output_type": "stream",
          "text": [
            "0\n",
            "1\n",
            "2\n",
            "3\n",
            "4\n",
            "5\n",
            "6\n",
            "7\n",
            "8\n",
            "9\n"
          ],
          "name": "stdout"
        }
      ]
    },
    {
      "cell_type": "code",
      "metadata": {
        "colab": {
          "base_uri": "https://localhost:8080/"
        },
        "id": "lCgUUe-76oZz",
        "outputId": "22daf19e-3363-4a67-9b49-e1ece8b8a219"
      },
      "source": [
        "class vehicle:\n",
        "  def __init__(self, brand, model, year):\n",
        "    self.brand = brand\n",
        "    self.model = model\n",
        "    self.year = year\n",
        "\n",
        "  def brake(self):\n",
        "    print('applying brake')\n",
        "\n",
        "\n",
        "car1 = vehicle('honda', 'civic', '2020')\n",
        "car1.year\n",
        "car1.brake()\n"
      ],
      "execution_count": 93,
      "outputs": [
        {
          "output_type": "stream",
          "text": [
            "applying brake\n"
          ],
          "name": "stdout"
        }
      ]
    },
    {
      "cell_type": "code",
      "metadata": {
        "colab": {
          "base_uri": "https://localhost:8080/"
        },
        "id": "3CXXJNl46oj3",
        "outputId": "9e3052af-dda7-4dbd-9669-5337438773a1"
      },
      "source": [
        "# filter\n",
        "ages = [1,5,9, 17, 69, 23]\n",
        "\n",
        "def myFunc(x):\n",
        "  if x<18:\n",
        "    return False\n",
        "  else:\n",
        "    return True\n",
        "\n",
        "adults = filter(myFunc, ages)\n",
        "list(adults)"
      ],
      "execution_count": 95,
      "outputs": [
        {
          "output_type": "execute_result",
          "data": {
            "text/plain": [
              "[69, 23]"
            ]
          },
          "metadata": {
            "tags": []
          },
          "execution_count": 95
        }
      ]
    },
    {
      "cell_type": "code",
      "metadata": {
        "colab": {
          "base_uri": "https://localhost:8080/"
        },
        "id": "dVsxjNtV6ou-",
        "outputId": "69a00cba-137c-41ae-bf09-bd179fd3cbb8"
      },
      "source": [
        "# map\n",
        "def my_func(x):\n",
        "  return x**2\n",
        "l = [1,2,3,4,5,6]\n",
        "# l_1 = map(lambda x: x**2,l )\n",
        "l_1 = map(my_func,l )\n",
        "\n",
        "print(list(l_1))"
      ],
      "execution_count": 98,
      "outputs": [
        {
          "output_type": "stream",
          "text": [
            "[1, 4, 9, 16, 25, 36]\n"
          ],
          "name": "stdout"
        }
      ]
    },
    {
      "cell_type": "code",
      "metadata": {
        "id": "XD4hCGak6o4V"
      },
      "source": [
        ""
      ],
      "execution_count": null,
      "outputs": []
    },
    {
      "cell_type": "code",
      "metadata": {
        "id": "KtzUBDUx6pB4"
      },
      "source": [
        ""
      ],
      "execution_count": null,
      "outputs": []
    },
    {
      "cell_type": "code",
      "metadata": {
        "id": "vk7eXs5T6pLD"
      },
      "source": [
        ""
      ],
      "execution_count": null,
      "outputs": []
    }
  ]
}